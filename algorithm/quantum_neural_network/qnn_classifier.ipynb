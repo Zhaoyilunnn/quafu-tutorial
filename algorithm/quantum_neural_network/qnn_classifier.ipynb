{
 "cells": [
  {
   "cell_type": "code",
   "execution_count": 16,
   "metadata": {},
   "outputs": [],
   "source": [
    "# Import necessary modules\n",
    "import numpy as np\n",
    "import pytest\n",
    "import torch\n",
    "from quafu.algorithms.ansatz import QuantumNeuralNetwork\n",
    "from quafu.algorithms.gradients import compute_vjp, jacobian\n",
    "from quafu.algorithms.interface.torch import ModuleWrapper, TorchTransformer\n",
    "from quafu.algorithms.templates.angle import AngleEmbedding\n",
    "from quafu.algorithms.templates.basic_entangle import BasicEntangleLayers\n",
    "from quafu.circuits.quantum_circuit import QuantumCircuit\n",
    "from quafu.elements import Parameter\n",
    "from torch import nn\n",
    "from torch.utils.data import DataLoader, TensorDataset"
   ]
  },
  {
   "cell_type": "code",
   "execution_count": 17,
   "metadata": {},
   "outputs": [],
   "source": [
    "# Create a synthetic dataset\n",
    "def generate_random_dataset(num_inputs, num_samples):\n",
    "    \"\"\"\n",
    "    Generate random dataset\n",
    "\n",
    "    Args:\n",
    "        num_inputs: dimension of input data\n",
    "        num_samples: number of samples in the dataset\n",
    "    \"\"\"\n",
    "    # Generate random input coordinates using PyTorch's rand function\n",
    "    x = 2 * torch.rand([num_samples, num_inputs], dtype=torch.double) - 1\n",
    "\n",
    "    # Calculate labels based on the sum of input coordinates\n",
    "    y01 = (torch.sum(x, dim=1) >= 0).to(torch.long)\n",
    "\n",
    "    # Convert to one-hot vector\n",
    "    y = torch.zeros(num_samples, 2)  # Two classes (0 and 1)\n",
    "    y[torch.arange(num_samples), y01] = 1\n",
    "\n",
    "    # Create a PyTorch dataset\n",
    "    dataset = TensorDataset(x, y)\n",
    "\n",
    "    return dataset\n",
    "\n",
    "dataset = generate_random_dataset(2, 100)\n",
    "\n",
    "x = dataset.tensors[0]"
   ]
  },
  {
   "cell_type": "code",
   "execution_count": 18,
   "metadata": {},
   "outputs": [
    {
     "data": {
      "text/plain": [
       "Text(0.5, 1.0, 'Random Dataset')"
      ]
     },
     "execution_count": 18,
     "metadata": {},
     "output_type": "execute_result"
    },
    {
     "data": {
      "image/png": "[encoded data removed]",
      "text/plain": [
       "<Figure size 800x600 with 1 Axes>"
      ]
     },
     "metadata": {},
     "output_type": "display_data"
    }
   ],
   "source": [
    "# Virtualize the data\n",
    "import matplotlib.pyplot as plt\n",
    "\n",
    "# Extract x and y from dataset\n",
    "x = dataset.tensors[0]\n",
    "y = dataset.tensors[1]\n",
    "\n",
    "# Plotting the data points with different colors based on labels\n",
    "plt.figure(figsize=(8, 6))\n",
    "\n",
    "# Extract coordinates for each class\n",
    "x_class0 = x[y[:, 0] == 1]\n",
    "x_class1 = x[y[:, 1] == 1]\n",
    "\n",
    "# Plot points for each class with different colors\n",
    "plt.scatter(x_class0[:, 0], x_class0[:, 1], color='blue', label='Class 0')\n",
    "plt.scatter(x_class1[:, 0], x_class1[:, 1], color='red', label='Class 1')\n",
    "\n",
    "plt.title('Random Dataset')"
   ]
  },
  {
   "cell_type": "code",
   "execution_count": 19,
   "metadata": {},
   "outputs": [],
   "source": [
    "# Create a quantum classifier using pyquafu\n",
    "num_qubits = 2\n",
    "weights = np.random.randn(num_qubits, num_qubits)\n",
    "encoder_layer = AngleEmbedding(np.random.random((num_qubits,)), num_qubits=2)\n",
    "entangle_layer = BasicEntangleLayers(weights, num_qubits=num_qubits)\n",
    "qnn = QuantumNeuralNetwork(num_qubits, encoder_layer + entangle_layer)\n",
    "\n",
    "# Convert to torch module\n",
    "model = ModuleWrapper(qnn)"
   ]
  },
  {
   "cell_type": "code",
   "execution_count": 12,
   "metadata": {},
   "outputs": [
    {
     "name": "stdout",
     "output_type": "stream",
     "text": [
      "q[0]  --RX(0.463)----RX(0.752)-----*----RX(1.666)----*--\n",
      "                                   |                 |  \n",
      "q[1]  --RX(0.113)----RX(-0.267)----+----RX(0.915)----+--\n"
     ]
    }
   ],
   "source": [
    "# Virtualize the circuit\n",
    "qnn.draw_circuit()"
   ]
  },
  {
   "cell_type": "code",
   "execution_count": 20,
   "metadata": {},
   "outputs": [
    {
     "name": "stdout",
     "output_type": "stream",
     "text": [
      " ----- Loss: 0.47016352457238486\n",
      " ----- Loss: 0.5602389247262449\n",
      " ----- Loss: 0.5042052124440095\n",
      " ----- Loss: 0.44303089908003146\n",
      " ----- Loss: 0.485680678548877\n",
      " ----- Loss: 0.5203317992118561\n",
      " ----- Loss: 0.471911751745741\n",
      " ----- Loss: 0.44851506067720437\n",
      " ----- Loss: 0.3789606888362804\n",
      " ----- Loss: 0.504474843649149\n",
      " ----- Loss: 0.561150143374328\n",
      " ----- Loss: 0.39283003340155154\n",
      " ----- Loss: 0.5613422945489938\n",
      "Epoch 1/5: Loss = 0.5613422945489938\n",
      " ----- Loss: 0.5401680108296921\n",
      " ----- Loss: 0.4154153601181712\n",
      " ----- Loss: 0.4387543996148419\n",
      " ----- Loss: 0.3729660315631854\n",
      " ----- Loss: 0.5619182557240855\n",
      " ----- Loss: 0.5339458227153231\n",
      " ----- Loss: 0.45763721856315454\n",
      " ----- Loss: 0.3940893331638052\n",
      " ----- Loss: 0.43448165556324003\n",
      " ----- Loss: 0.4763397232856658\n",
      " ----- Loss: 0.3763355925204098\n",
      " ----- Loss: 0.3768708300255989\n",
      " ----- Loss: 0.38468797851758657\n",
      "Epoch 2/5: Loss = 0.38468797851758657\n",
      " ----- Loss: 0.4688030109129038\n",
      " ----- Loss: 0.40239612992750523\n",
      " ----- Loss: 0.4630986822835588\n",
      " ----- Loss: 0.44133881014360066\n",
      " ----- Loss: 0.43114328088495874\n",
      " ----- Loss: 0.3762427647266123\n",
      " ----- Loss: 0.40536339777732877\n",
      " ----- Loss: 0.48370359315827427\n",
      " ----- Loss: 0.47937323862227343\n",
      " ----- Loss: 0.3751127750864068\n",
      " ----- Loss: 0.4427304534291537\n",
      " ----- Loss: 0.5159676610611877\n",
      " ----- Loss: 0.38930382772485916\n",
      "Epoch 3/5: Loss = 0.38930382772485916\n",
      " ----- Loss: 0.4158388238428226\n",
      " ----- Loss: 0.40944913387006365\n",
      " ----- Loss: 0.4233509469041122\n",
      " ----- Loss: 0.4940464186496621\n",
      " ----- Loss: 0.4021197076020214\n",
      " ----- Loss: 0.5324212955135319\n",
      " ----- Loss: 0.40052175395142775\n",
      " ----- Loss: 0.5349364808907763\n",
      " ----- Loss: 0.5230948726406128\n",
      " ----- Loss: 0.4411089440796087\n",
      " ----- Loss: 0.3577833735552826\n",
      " ----- Loss: 0.4668235531039834\n",
      " ----- Loss: 0.47850564742397306\n",
      "Epoch 4/5: Loss = 0.47850564742397306\n",
      " ----- Loss: 0.5239791295293077\n",
      " ----- Loss: 0.3890578700981654\n",
      " ----- Loss: 0.5782650190125191\n",
      " ----- Loss: 0.4396303596628534\n",
      " ----- Loss: 0.3859259375672083\n",
      " ----- Loss: 0.30551297561268254\n",
      " ----- Loss: 0.4529763655454381\n",
      " ----- Loss: 0.46924772783687907\n",
      " ----- Loss: 0.4167322497074205\n",
      " ----- Loss: 0.4404987567575322\n",
      " ----- Loss: 0.4593230090691929\n",
      " ----- Loss: 0.5155970975023516\n",
      " ----- Loss: 0.5822403375329739\n",
      "Epoch 5/5: Loss = 0.5822403375329739\n",
      "Accuracy: 94.00%\n"
     ]
    }
   ],
   "source": [
    "learning_rate = 0.1\n",
    "batch_size = 8\n",
    "num_epochs = 5\n",
    "\n",
    "# Train the classifier\n",
    "# Define the loss function and optimizer\n",
    "criterion = nn.CrossEntropyLoss()\n",
    "optimizer = torch.optim.Adam(model.parameters(), lr=learning_rate)\n",
    "\n",
    "# Create data loader\n",
    "data_loader = DataLoader(dataset, batch_size=batch_size, shuffle=True)\n",
    "\n",
    "# Train the model\n",
    "for epoch in range(num_epochs):\n",
    "    for inputs, labels in data_loader:\n",
    "        # Forward pass\n",
    "        outputs = model(inputs)\n",
    "\n",
    "        # Compute the loss\n",
    "        loss = criterion(outputs, labels)\n",
    "\n",
    "        # Backward pass\n",
    "        optimizer.zero_grad()\n",
    "        loss.backward()\n",
    "\n",
    "        # Update the parameters\n",
    "        optimizer.step()\n",
    "\n",
    "        print(f\" ----- Loss: {loss.item()}\")\n",
    "\n",
    "    # Print the loss\n",
    "    print(f\"Epoch {epoch + 1}/{num_epochs}: Loss = {loss.item()}\")\n",
    "\n",
    "# Evaluate the model on the dataset\n",
    "correct = 0\n",
    "total = 0\n",
    "with torch.no_grad():\n",
    "    for inputs, labels in data_loader:\n",
    "        outputs = model(inputs)\n",
    "        _, predicted = torch.max(outputs.data, 1)\n",
    "        total += labels.size(0)\n",
    "        correct += (predicted == labels.argmax(dim=1)).sum().item()\n",
    "\n",
    "print(f\"Accuracy: {100 * correct / total:.2f}%\")"
   ]
  }
 ],
 "metadata": {
  "kernelspec": {
   "display_name": "quafu-dev",
   "language": "python",
   "name": "python3"
  },
  "language_info": {
   "codemirror_mode": {
    "name": "ipython",
    "version": 3
   },
   "file_extension": ".py",
   "mimetype": "text/x-python",
   "name": "python",
   "nbconvert_exporter": "python",
   "pygments_lexer": "ipython3",
   "version": "3.10.14"
  }
 },
 "nbformat": 4,
 "nbformat_minor": 2
}
