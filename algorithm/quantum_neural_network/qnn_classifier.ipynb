{
 "cells": [
  {
   "cell_type": "code",
   "execution_count": 1,
   "metadata": {},
   "outputs": [],
   "source": [
    "# Import necessary modules\n",
    "import numpy as np\n",
    "import pytest\n",
    "import torch\n",
    "from quafu.algorithms.ansatz import QuantumNeuralNetwork\n",
    "from quafu.algorithms.gradients import compute_vjp, jacobian\n",
    "from quafu.algorithms.interface.torch import ModuleWrapper, TorchTransformer\n",
    "from quafu.algorithms.templates.angle import AngleEmbedding\n",
    "from quafu.algorithms.templates.basic_entangle import BasicEntangleLayers\n",
    "from quafu.circuits.quantum_circuit import QuantumCircuit\n",
    "from quafu.elements import Parameter\n",
    "from torch import nn\n",
    "from torch.utils.data import DataLoader, TensorDataset"
   ]
  },
  {
   "cell_type": "code",
   "execution_count": 2,
   "metadata": {},
   "outputs": [],
   "source": [
    "# Create a synthetic dataset\n",
    "def generate_random_dataset(num_inputs, num_samples):\n",
    "    \"\"\"\n",
    "    Generate random dataset\n",
    "\n",
    "    Args:\n",
    "        num_inputs: dimension of input data\n",
    "        num_samples: number of samples in the dataset\n",
    "    \"\"\"\n",
    "    # Generate random input coordinates using PyTorch's rand function\n",
    "    x = 2 * torch.rand([num_samples, num_inputs], dtype=torch.double) - 1\n",
    "\n",
    "    # Calculate labels based on the sum of input coordinates\n",
    "    y01 = (torch.sum(x, dim=1) >= 0).to(torch.long)\n",
    "\n",
    "    # Convert to one-hot vector\n",
    "    y = torch.zeros(num_samples, 2)  # Two classes (0 and 1)\n",
    "    y[torch.arange(num_samples), y01] = 1\n",
    "\n",
    "    # Create a PyTorch dataset\n",
    "    dataset = TensorDataset(x, y)\n",
    "\n",
    "    return dataset\n",
    "\n",
    "dataset = generate_random_dataset(2, 100)\n",
    "\n",
    "x = dataset.tensors[0]"
   ]
  },
  {
   "cell_type": "code",
   "execution_count": 3,
   "metadata": {},
   "outputs": [
    {
     "data": {
      "text/plain": [
       "Text(0.5, 1.0, 'Random Dataset')"
      ]
     },
     "execution_count": 3,
     "metadata": {},
     "output_type": "execute_result"
    },
    {
     "data": {
      "image/png": "[encoded data removed]",
      "text/plain": [
       "<Figure size 800x600 with 1 Axes>"
      ]
     },
     "metadata": {},
     "output_type": "display_data"
    }
   ],
   "source": [
    "# Virtualize the data\n",
    "import matplotlib.pyplot as plt\n",
    "\n",
    "# Extract x and y from dataset\n",
    "x = dataset.tensors[0]\n",
    "y = dataset.tensors[1]\n",
    "\n",
    "# Plotting the data points with different colors based on labels\n",
    "plt.figure(figsize=(8, 6))\n",
    "\n",
    "# Extract coordinates for each class\n",
    "x_class0 = x[y[:, 0] == 1]\n",
    "x_class1 = x[y[:, 1] == 1]\n",
    "\n",
    "# Plot points for each class with different colors\n",
    "plt.scatter(x_class0[:, 0], x_class0[:, 1], color='blue', label='Class 0')\n",
    "plt.scatter(x_class1[:, 0], x_class1[:, 1], color='red', label='Class 1')\n",
    "\n",
    "plt.title('Random Dataset')"
   ]
  },
  {
   "cell_type": "code",
   "execution_count": 4,
   "metadata": {},
   "outputs": [],
   "source": [
    "# Create a quantum classifier using pyquafu\n",
    "num_qubits = 2\n",
    "weights = np.random.randn(num_qubits, num_qubits)\n",
    "encoder_layer = AngleEmbedding(np.random.random((num_qubits,)), num_qubits=2)\n",
    "entangle_layer = BasicEntangleLayers(weights, num_qubits=num_qubits)\n",
    "qnn = QuantumNeuralNetwork(num_qubits, encoder_layer + entangle_layer)\n",
    "\n",
    "# Convert to torch module\n",
    "model = ModuleWrapper(qnn)"
   ]
  },
  {
   "cell_type": "markdown",
   "metadata": {},
   "source": [
    "Alternatively, you could also customize encoder layer and ansatz layer"
   ]
  },
  {
   "cell_type": "code",
   "execution_count": null,
   "metadata": {},
   "outputs": [],
   "source": [
    "# Create a quantum classifier using pyquafu\n",
    "import quafu.elements.element_gates as qeg\n",
    "num_qubits = 2\n",
    "weights = np.random.randn(num_qubits, num_qubits)\n",
    "data = []\n",
    "inputs0 = np.random.random((num_qubits * 2,))\n",
    "\n",
    "# customize encoder layer\n",
    "ry0 = qeg.RYGate(0, Parameter(\"theta_0\", inputs0[0], tunable=False))\n",
    "ry1 = qeg.RYGate(0, Parameter(\"theta_1\", inputs0[1], tunable=False))\n",
    "x = qeg.XGate(1)\n",
    "cnot = qeg.CXGate(0, 1)\n",
    "rx0 = qeg.RYGate(0, Parameter(\"theta_3\", inputs0[3], tunable=False))\n",
    "rx1 = qeg.RYGate(0, Parameter(\"theta_4\", inputs0[4], tunable=False))\n",
    "encoder_layer = [ry0, ry1, x, cnot, rx0, rx1]\n",
    "\n",
    "entangle_layer = BasicEntangleLayers(weights, num_qubits=num_qubits)\n",
    "qnn1 = QuantumNeuralNetwork(num_qubits, encoder_layer + entangle_layer)\n",
    "\n",
    "# Convert to torch module\n",
    "model1 = ModuleWrapper(qnn1)"
   ]
  },
  {
   "cell_type": "code",
   "execution_count": 5,
   "metadata": {},
   "outputs": [
    {
     "name": "stdout",
     "output_type": "stream",
     "text": [
      "q[0]  --RX(0.870)----RX(0.310)-----*----RX(2.138)----*--\n",
      "                                   |                 |  \n",
      "q[1]  --RX(0.740)----RX(-1.888)----+----RX(0.043)----+--\n"
     ]
    }
   ],
   "source": [
    "# Virtualize the circuit\n",
    "qnn.draw_circuit()"
   ]
  },
  {
   "cell_type": "code",
   "execution_count": 6,
   "metadata": {},
   "outputs": [
    {
     "name": "stdout",
     "output_type": "stream",
     "text": [
      " ----- Loss: 0.9615325233574474\n",
      " ----- Loss: 0.9194733350912121\n",
      " ----- Loss: 0.8931470706539846\n",
      " ----- Loss: 1.0503941422362684\n",
      " ----- Loss: 0.9908540916120671\n",
      " ----- Loss: 0.831051357243214\n",
      " ----- Loss: 0.8619902350795049\n",
      " ----- Loss: 0.7945578709369877\n",
      " ----- Loss: 0.7733395084352032\n",
      " ----- Loss: 0.7370698765793892\n",
      " ----- Loss: 0.7087369934765426\n",
      " ----- Loss: 0.6990222640637548\n",
      " ----- Loss: 0.6729794460770855\n",
      "Epoch 1/5: Loss = 0.6729794460770855\n",
      " ----- Loss: 0.6895816165378665\n",
      " ----- Loss: 0.6861536674558707\n",
      " ----- Loss: 0.683243568754467\n",
      " ----- Loss: 0.6916647736681723\n",
      " ----- Loss: 0.6903605056577911\n",
      " ----- Loss: 0.6910721320884553\n",
      " ----- Loss: 0.6871586681137746\n",
      " ----- Loss: 0.6805190094955192\n",
      " ----- Loss: 0.6770529229934533\n",
      " ----- Loss: 0.6517807017674097\n",
      " ----- Loss: 0.6445985476671462\n",
      " ----- Loss: 0.6184428838887601\n",
      " ----- Loss: 0.6631814472495701\n",
      "Epoch 2/5: Loss = 0.6631814472495701\n",
      " ----- Loss: 0.6086276839146854\n",
      " ----- Loss: 0.5327462219405604\n",
      " ----- Loss: 0.5929885820417882\n",
      " ----- Loss: 0.6173924067612989\n",
      " ----- Loss: 0.6277495391710763\n",
      " ----- Loss: 0.4295962903110465\n",
      " ----- Loss: 0.6094193231143309\n",
      " ----- Loss: 0.5465511214792286\n",
      " ----- Loss: 0.542503553447466\n",
      " ----- Loss: 0.48787220829254785\n",
      " ----- Loss: 0.4446348017231123\n",
      " ----- Loss: 0.4973216638430847\n",
      " ----- Loss: 0.4136359729049297\n",
      "Epoch 3/5: Loss = 0.4136359729049297\n",
      " ----- Loss: 0.48241423253192095\n",
      " ----- Loss: 0.44137337686332456\n",
      " ----- Loss: 0.440409637930462\n",
      " ----- Loss: 0.432889323647811\n",
      " ----- Loss: 0.4633076925832609\n",
      " ----- Loss: 0.445347159252084\n",
      " ----- Loss: 0.3654592043098298\n",
      " ----- Loss: 0.48568367621262415\n",
      " ----- Loss: 0.4817238030353662\n",
      " ----- Loss: 0.510209173048949\n",
      " ----- Loss: 0.5441163147658147\n",
      " ----- Loss: 0.43367665045978315\n",
      " ----- Loss: 0.5140014105526381\n",
      "Epoch 4/5: Loss = 0.5140014105526381\n",
      " ----- Loss: 0.4445200679103993\n",
      " ----- Loss: 0.48960385994725547\n",
      " ----- Loss: 0.5308552554148117\n",
      " ----- Loss: 0.4977890824798297\n",
      " ----- Loss: 0.4959329162318091\n",
      " ----- Loss: 0.49106963142433413\n",
      " ----- Loss: 0.38220780291621104\n",
      " ----- Loss: 0.40746435785809026\n",
      " ----- Loss: 0.5141188994213863\n",
      " ----- Loss: 0.34685652245923004\n",
      " ----- Loss: 0.4313431155676729\n",
      " ----- Loss: 0.4761467322056414\n",
      " ----- Loss: 0.4700183684481515\n",
      "Epoch 5/5: Loss = 0.4700183684481515\n",
      "Accuracy: 96.00%\n"
     ]
    }
   ],
   "source": [
    "learning_rate = 0.1\n",
    "batch_size = 8\n",
    "num_epochs = 5\n",
    "\n",
    "# Train the classifier\n",
    "# Define the loss function and optimizer\n",
    "criterion = nn.CrossEntropyLoss()\n",
    "optimizer = torch.optim.Adam(model.parameters(), lr=learning_rate)\n",
    "\n",
    "# Create data loader\n",
    "data_loader = DataLoader(dataset, batch_size=batch_size, shuffle=True)\n",
    "\n",
    "# Train the model\n",
    "for epoch in range(num_epochs):\n",
    "    for inputs, labels in data_loader:\n",
    "        # Forward pass\n",
    "        outputs = model(inputs)\n",
    "\n",
    "        # Compute the loss\n",
    "        loss = criterion(outputs, labels)\n",
    "\n",
    "        # Backward pass\n",
    "        optimizer.zero_grad()\n",
    "        loss.backward()\n",
    "\n",
    "        # Update the parameters\n",
    "        optimizer.step()\n",
    "\n",
    "        print(f\" ----- Loss: {loss.item()}\")\n",
    "\n",
    "    # Print the loss\n",
    "    print(f\"Epoch {epoch + 1}/{num_epochs}: Loss = {loss.item()}\")\n",
    "\n",
    "# Evaluate the model on the dataset\n",
    "correct = 0\n",
    "total = 0\n",
    "with torch.no_grad():\n",
    "    for inputs, labels in data_loader:\n",
    "        outputs = model(inputs)\n",
    "        _, predicted = torch.max(outputs.data, 1)\n",
    "        total += labels.size(0)\n",
    "        correct += (predicted == labels.argmax(dim=1)).sum().item()\n",
    "\n",
    "print(f\"Accuracy: {100 * correct / total:.2f}%\")"
   ]
  }
 ],
 "metadata": {
  "kernelspec": {
   "display_name": "quafu-dev",
   "language": "python",
   "name": "python3"
  },
  "language_info": {
   "codemirror_mode": {
    "name": "ipython",
    "version": 3
   },
   "file_extension": ".py",
   "mimetype": "text/x-python",
   "name": "python",
   "nbconvert_exporter": "python",
   "pygments_lexer": "ipython3",
   "version": "3.10.14"
  }
 },
 "nbformat": 4,
 "nbformat_minor": 2
}
